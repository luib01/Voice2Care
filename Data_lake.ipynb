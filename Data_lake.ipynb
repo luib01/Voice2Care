{
 "cells": [
  {
   "cell_type": "code",
   "execution_count": 2,
   "id": "73cebb4b",
   "metadata": {},
   "outputs": [
    {
     "name": "stdout",
     "output_type": "stream",
     "text": [
      "openjdk version \"11.0.27\" 2025-04-15\n",
      "OpenJDK Runtime Environment Homebrew (build 11.0.27+0)\n",
      "OpenJDK 64-Bit Server VM Homebrew (build 11.0.27+0, mixed mode)\n"
     ]
    }
   ],
   "source": [
    "import os\n",
    "# 1. Imposta il percorso di Java 11 (usa l'output del comando sopra)\n",
    "java_home_path = \"/Library/Java/JavaVirtualMachines/openjdk-11.jdk/Contents/Home\"\n",
    "os.environ[\"JAVA_HOME\"] = java_home_path\n",
    "\n",
    "# 2. Aggiungi Java al PATH\n",
    "os.environ[\"PATH\"] = f\"{java_home_path}/bin:{os.environ['PATH']}\"\n",
    "\n",
    "# 3. Verifica (opzionale)\n",
    "!java -version\n",
    "\n"
   ]
  },
  {
   "cell_type": "code",
   "execution_count": 1,
   "id": "943892b0",
   "metadata": {},
   "outputs": [
    {
     "name": "stderr",
     "output_type": "stream",
     "text": [
      "25/06/14 13:12:28 WARN Utils: Your hostname, MacBook-Air-di-Luigi.local resolves to a loopback address: 127.0.0.1; using 192.168.1.201 instead (on interface en0)\n",
      "25/06/14 13:12:28 WARN Utils: Set SPARK_LOCAL_IP if you need to bind to another address\n",
      "Ivy Default Cache set to: /Users/luigibarbato/.ivy2/cache\n",
      "The jars for the packages stored in: /Users/luigibarbato/.ivy2/jars\n",
      "org.mongodb.spark#mongo-spark-connector_2.12 added as a dependency\n",
      ":: resolving dependencies :: org.apache.spark#spark-submit-parent-d48c91de-257b-4004-b96b-86cd66d5a7b2;1.0\n",
      "\tconfs: [default]\n"
     ]
    },
    {
     "name": "stdout",
     "output_type": "stream",
     "text": [
      ":: loading settings :: url = jar:file:/opt/anaconda3/envs/cnr_project/lib/python3.10/site-packages/pyspark/jars/ivy-2.5.1.jar!/org/apache/ivy/core/settings/ivysettings.xml\n"
     ]
    },
    {
     "name": "stderr",
     "output_type": "stream",
     "text": [
      "\tfound org.mongodb.spark#mongo-spark-connector_2.12;10.5.0 in central\n",
      "\tfound org.mongodb#mongodb-driver-sync;5.1.4 in central\n",
      "\t[5.1.4] org.mongodb#mongodb-driver-sync;[5.1.1,5.1.99)\n",
      "\tfound org.mongodb#bson;5.1.4 in central\n",
      "\tfound org.mongodb#mongodb-driver-core;5.1.4 in central\n",
      "\tfound org.mongodb#bson-record-codec;5.1.4 in central\n",
      ":: resolution report :: resolve 1512ms :: artifacts dl 3ms\n",
      "\t:: modules in use:\n",
      "\torg.mongodb#bson;5.1.4 from central in [default]\n",
      "\torg.mongodb#bson-record-codec;5.1.4 from central in [default]\n",
      "\torg.mongodb#mongodb-driver-core;5.1.4 from central in [default]\n",
      "\torg.mongodb#mongodb-driver-sync;5.1.4 from central in [default]\n",
      "\torg.mongodb.spark#mongo-spark-connector_2.12;10.5.0 from central in [default]\n",
      "\t---------------------------------------------------------------------\n",
      "\t|                  |            modules            ||   artifacts   |\n",
      "\t|       conf       | number| search|dwnlded|evicted|| number|dwnlded|\n",
      "\t---------------------------------------------------------------------\n",
      "\t|      default     |   5   |   1   |   0   |   0   ||   5   |   0   |\n",
      "\t---------------------------------------------------------------------\n",
      ":: retrieving :: org.apache.spark#spark-submit-parent-d48c91de-257b-4004-b96b-86cd66d5a7b2\n",
      "\tconfs: [default]\n",
      "\t0 artifacts copied, 5 already retrieved (0kB/3ms)\n",
      "25/06/14 13:12:30 WARN NativeCodeLoader: Unable to load native-hadoop library for your platform... using builtin-java classes where applicable\n",
      "Setting default log level to \"WARN\".\n",
      "To adjust logging level use sc.setLogLevel(newLevel). For SparkR, use setLogLevel(newLevel).\n",
      "25/06/14 13:12:32 WARN package: Truncated the string representation of a plan since it was too large. This behavior can be adjusted by setting 'spark.sql.debug.maxToStringFields'.\n"
     ]
    },
    {
     "name": "stdout",
     "output_type": "stream",
     "text": [
      "+--------------------+--------------+--------+----+------+---------------+--------------+--------------+-------------+-----------------+---------------------+-------------------+----+-------------+-----------------+------------------+-------------+---------------+---------------------+------------------+---------------+--------------------------+----------------+--------------------+-------------------+-------------+---------------+---------------------+--------------+-------------------+-------------------+-------------------+--------------------+-------------+-----------------+-------------+--------------------+------------+----------------------+----------------------+----------------+---------------------+--------------------+--------------------+-------------------+----------------------+--------------------------+-----------------------+--------------------+---------+-----------------+-------------------+----------------------+--------------------+--------------------+--------------------+--------------------+--------------------+--------+--------------------+--------------------+--------------------+------------------+---------------+-------------+\n",
      "|                 _id|accesso_venoso|allergie| cap| citta|citta_residenza|codice_fiscale|codice_rientro|codice_uscita|cognome_chiamante|cognome_nome_paziente|condizioni_consegna|data| data_nascita|decesso_sul_posto|dolore_localizzato|          eta|farmaci_assunti|farmaci_somministrati|firma_responsabile|flusso_ossigeno|forze_dell'ordine_presenti|immobilizzazioni|indirizzo_intervento|indirizzo_residenza|luogo_nascita|mezzo_trasporto|monitoraggio_continuo|nome_chiamante|nome_soccorritore_1|nome_soccorritore_2|nome_soccorritore_3|     note_intervento|numero_civico|numero_intervento|ora_arrivo_ps|ora_arrivo_sul_posto|ora_chiamata|ora_partenza_ambulanza|ora_partenza_dal_posto|ora_rientro_sede|ospedale_destinazione|     ossigenoterapia|    parametri_vitali|patologie_pregresse|paziente_consegnato_ps|paziente_rifiuto_trasporto|posizionamento_paziente|problemi_riscontrati|provincia|provincia_nascita|provincia_residenza|relazione_con_paziente|reparto_destinazione|           residenza|ruolo_soccorritore_1|ruolo_soccorritore_2|ruolo_soccorritore_3|   sesso|             sintomi|soluzione_endovenosa|     stato_coscienza|telefono_chiamante|     tipo_mezzo|          via|\n",
      "+--------------------+--------------+--------+----+------+---------------+--------------+--------------+-------------+-----------------+---------------------+-------------------+----+-------------+-----------------+------------------+-------------+---------------+---------------------+------------------+---------------+--------------------------+----------------+--------------------+-------------------+-------------+---------------+---------------------+--------------+-------------------+-------------------+-------------------+--------------------+-------------+-----------------+-------------+--------------------+------------+----------------------+----------------------+----------------+---------------------+--------------------+--------------------+-------------------+----------------------+--------------------------+-----------------------+--------------------+---------+-----------------+-------------------+----------------------+--------------------+--------------------+--------------------+--------------------+--------------------+--------+--------------------+--------------------+--------------------+------------------+---------------+-------------+\n",
      "|684d3ed8841503384...|          null|    null|    | Parma|           null|          null|            D4|           D2|                 |                 null|                   |    |         null|            false|            addome|circa 35 anni|           null|                   []|                  |           null|                      null|            null| via Verdi 10, Parma|               null|             |      ambulanza|                     |              |                   |                   |                   |Posizionato in si...|           10|            PR125|         null|                null|       11:08|                  null|                  null|            null|                 null|                null|[{, <100 bpm, , >...|               null|                  true|                     false|    posizione antalgica|                    |         |                 |               null|                      |     Pronto Soccorso|                null|                    |                    |                    |maschile|[forti dolori add...|                null|  vigile e orientato|       0521‑000002|      ambulanza|    via Verdi|\n",
      "|684d3ed8841503384...|          null|    null|null|Modena|         Modena|          null|            D3|           D2|             null|         Luca Bianchi|                   |    |   20/07/1983|            false|     articolazioni|         null|           null|                   []|                  |           null|                      null|            null|                    |                   |         null|      ambulanza|                 null|          null|               null|               null|               null|crisi epilettica,...|           15|            MO456|         null|                null|       14:17|                  null|                  null|            null| Policlinico di Mo...|                true|[{null, oltre 100...|               null|                  true|                     false|   posizione lateral...|                    |     null|             null|               null|                  null|                null|                    |                null|                null|                null|    null|[crisi tonica e c...|                null|inizialmente inco...|        059-000111|      ambulanza|        Verdi|\n",
      "|684d3ed8841503384...|          null|        |    | Parma|           null|              |            D4|           D3|                 |                     |               null|    |         null|            false|              null|circa 40 anni|               |                   []|                  |           null|                      null|            null|via Garibaldi 18,...|               null|         null|ambulanza PR124|                   sì|              |                   |                   |                   |                    |           18|                 |         null|                null|       15:22|                  null|                  null|            null|                     |                null|[{null, 80 bpm, n...|                   |                  true|                     false|                 seduto|                    |         |             null|               null|                  null|     Pronto Soccorso|                null|                    |                    |                    |maschile|[episodi di vomit...|                null|              vigile|       0521‑000001|ambulanza PR124|via Garibaldi|\n",
      "|684d3ed8841503384...|          null|        |    | Parma|          Parma|              |            D5|           D4|                 |          Rossi Mario|                   |    |12 marzo 1959|            false|              null|             |               |                   []|                  |               |                      true|                |  via Roma 24, Parma|      via Venezia 3|             |      ambulanza|                 true|              |               null|               null|               null|                    |           24|            PR123|         null|                null|       09:41|                  null|                  null|            null| Ospedale Maggiore...|iniziata in maschera|[{, <60 bpm, , 12...|                   |                  true|                     false|   capo e tronco sol...|                    |     null|                 |               null|               parente|                    |via Venezia 3, Parma|                null|                null|                null|    null|[vie aeree parzia...|                    |risponde solo a s...|       0521-000000|      ambulanza|         Roma|\n",
      "+--------------------+--------------+--------+----+------+---------------+--------------+--------------+-------------+-----------------+---------------------+-------------------+----+-------------+-----------------+------------------+-------------+---------------+---------------------+------------------+---------------+--------------------------+----------------+--------------------+-------------------+-------------+---------------+---------------------+--------------+-------------------+-------------------+-------------------+--------------------+-------------+-----------------+-------------+--------------------+------------+----------------------+----------------------+----------------+---------------------+--------------------+--------------------+-------------------+----------------------+--------------------------+-----------------------+--------------------+---------+-----------------+-------------------+----------------------+--------------------+--------------------+--------------------+--------------------+--------------------+--------+--------------------+--------------------+--------------------+------------------+---------------+-------------+\n",
      "\n"
     ]
    },
    {
     "name": "stderr",
     "output_type": "stream",
     "text": [
      "                                                                                \r"
     ]
    }
   ],
   "source": [
    "import os\n",
    "from pyspark.sql import SparkSession\n",
    "\n",
    "# 1. Configurazione ambiente Java e Spark\n",
    "os.environ[\"JAVA_HOME\"] = \"/Library/Java/JavaVirtualMachines/openjdk-11.jdk/Contents/Home\"\n",
    "os.environ[\"PYSPARK_SUBMIT_ARGS\"] = \"--packages org.mongodb.spark:mongo-spark-connector_2.12:10.5.0 pyspark-shell\"\n",
    "\n",
    "# 2. Inizializzazione Spark con configurazione esplicita\n",
    "spark = SparkSession.builder \\\n",
    "    .appName(\"ClinicalDataAnalysis\") \\\n",
    "    .config(\"spark.jars.packages\", \"org.mongodb.spark:mongo-spark-connector_2.12:10.5.0\") \\\n",
    "    .config(\"spark.mongodb.read.connection.uri\", \"mongodb://localhost:27017/cartella_clinica_db.interventi\") \\\n",
    "    .getOrCreate()\n",
    "\n",
    "# 3. Lettura dati con sintassi corretta\n",
    "df = spark.read \\\n",
    "  .format(\"mongodb\") \\\n",
    "  .option(\"uri\", \"mongodb://localhost:27017\") \\\n",
    "  .option(\"database\", \"cartella_clinica_db\") \\\n",
    "  .option(\"collection\", \"interventi\") \\\n",
    "  .load()\n",
    "\n",
    "# Verifica\n",
    "df.show(5)\n",
    "\n"
   ]
  }
 ],
 "metadata": {
  "kernelspec": {
   "display_name": "cnr_project",
   "language": "python",
   "name": "python3"
  },
  "language_info": {
   "codemirror_mode": {
    "name": "ipython",
    "version": 3
   },
   "file_extension": ".py",
   "mimetype": "text/x-python",
   "name": "python",
   "nbconvert_exporter": "python",
   "pygments_lexer": "ipython3",
   "version": "3.10.14"
  }
 },
 "nbformat": 4,
 "nbformat_minor": 5
}
