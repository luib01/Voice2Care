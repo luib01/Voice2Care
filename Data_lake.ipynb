{
 "cells": [
  {
   "cell_type": "code",
   "execution_count": 1,
   "id": "73cebb4b",
   "metadata": {},
   "outputs": [
    {
     "name": "stdout",
     "output_type": "stream",
     "text": [
      "openjdk version \"11.0.27\" 2025-04-15\n",
      "OpenJDK Runtime Environment Homebrew (build 11.0.27+0)\n",
      "OpenJDK 64-Bit Server VM Homebrew (build 11.0.27+0, mixed mode)\n"
     ]
    }
   ],
   "source": [
    "import os\n",
    "# 1. Imposta il percorso di Java 11 (usa l'output del comando sopra)\n",
    "java_home_path = \"/Library/Java/JavaVirtualMachines/openjdk-11.jdk/Contents/Home\"\n",
    "os.environ[\"JAVA_HOME\"] = java_home_path\n",
    "\n",
    "# 2. Aggiungi Java al PATH\n",
    "os.environ[\"PATH\"] = f\"{java_home_path}/bin:{os.environ['PATH']}\"\n",
    "\n",
    "# 3. Verifica (opzionale)\n",
    "!java -version\n",
    "\n"
   ]
  },
  {
   "cell_type": "code",
   "execution_count": 2,
   "id": "943892b0",
   "metadata": {},
   "outputs": [
    {
     "name": "stderr",
     "output_type": "stream",
     "text": [
      "25/06/15 16:34:45 WARN Utils: Your hostname, MacBook-Air-di-Luigi.local resolves to a loopback address: 127.0.0.1; using 192.168.1.201 instead (on interface en0)\n",
      "25/06/15 16:34:45 WARN Utils: Set SPARK_LOCAL_IP if you need to bind to another address\n"
     ]
    },
    {
     "name": "stdout",
     "output_type": "stream",
     "text": [
      ":: loading settings :: url = jar:file:/opt/anaconda3/envs/cnr_project/lib/python3.10/site-packages/pyspark/jars/ivy-2.5.1.jar!/org/apache/ivy/core/settings/ivysettings.xml\n"
     ]
    },
    {
     "name": "stderr",
     "output_type": "stream",
     "text": [
      "Ivy Default Cache set to: /Users/luigibarbato/.ivy2/cache\n",
      "The jars for the packages stored in: /Users/luigibarbato/.ivy2/jars\n",
      "org.mongodb.spark#mongo-spark-connector_2.12 added as a dependency\n",
      ":: resolving dependencies :: org.apache.spark#spark-submit-parent-d7f950c5-b474-4000-a0d1-964f63e79e43;1.0\n",
      "\tconfs: [default]\n",
      "\tfound org.mongodb.spark#mongo-spark-connector_2.12;10.5.0 in central\n",
      "\tfound org.mongodb#mongodb-driver-sync;5.1.4 in central\n",
      "\t[5.1.4] org.mongodb#mongodb-driver-sync;[5.1.1,5.1.99)\n",
      "\tfound org.mongodb#bson;5.1.4 in central\n",
      "\tfound org.mongodb#mongodb-driver-core;5.1.4 in central\n",
      "\tfound org.mongodb#bson-record-codec;5.1.4 in central\n",
      ":: resolution report :: resolve 1574ms :: artifacts dl 5ms\n",
      "\t:: modules in use:\n",
      "\torg.mongodb#bson;5.1.4 from central in [default]\n",
      "\torg.mongodb#bson-record-codec;5.1.4 from central in [default]\n",
      "\torg.mongodb#mongodb-driver-core;5.1.4 from central in [default]\n",
      "\torg.mongodb#mongodb-driver-sync;5.1.4 from central in [default]\n",
      "\torg.mongodb.spark#mongo-spark-connector_2.12;10.5.0 from central in [default]\n",
      "\t---------------------------------------------------------------------\n",
      "\t|                  |            modules            ||   artifacts   |\n",
      "\t|       conf       | number| search|dwnlded|evicted|| number|dwnlded|\n",
      "\t---------------------------------------------------------------------\n",
      "\t|      default     |   5   |   1   |   0   |   0   ||   5   |   0   |\n",
      "\t---------------------------------------------------------------------\n",
      ":: retrieving :: org.apache.spark#spark-submit-parent-d7f950c5-b474-4000-a0d1-964f63e79e43\n",
      "\tconfs: [default]\n",
      "\t0 artifacts copied, 5 already retrieved (0kB/4ms)\n",
      "25/06/15 16:34:47 WARN NativeCodeLoader: Unable to load native-hadoop library for your platform... using builtin-java classes where applicable\n",
      "Setting default log level to \"WARN\".\n",
      "To adjust logging level use sc.setLogLevel(newLevel). For SparkR, use setLogLevel(newLevel).\n",
      "25/06/15 16:34:52 WARN package: Truncated the string representation of a plan since it was too large. This behavior can be adjusted by setting 'spark.sql.debug.maxToStringFields'.\n",
      "[Stage 0:>                                                          (0 + 1) / 1]\r"
     ]
    },
    {
     "name": "stdout",
     "output_type": "stream",
     "text": [
      "+--------------------+--------------------+--------------------+-----+--------+---------------+----------------+--------------+-------------+-----------------+---------------------+--------------------+----------+-------------+-----------------+------------------+-------------+--------------------+---------------------+------------------+--------------------+--------------------------+--------------------+--------------------+-------------------+-------------+---------------+---------------------+--------------+-------------------+-------------------+-------------------+--------------------+-------------+-----------------+-------------+--------------------+------------+----------------------+----------------------+----------------+---------------------+--------------------+--------------------+--------------------+----------------------+--------------------------+-----------------------+--------------------+---------+-----------------+-------------------+----------------------+--------------------+--------------------+--------------------+--------------------+--------------------+---------+--------------------+--------------------+--------------------+------------------+---------------+-------------+\n",
      "|                 _id|      accesso_venoso|            allergie|  cap|   citta|citta_residenza|  codice_fiscale|codice_rientro|codice_uscita|cognome_chiamante|cognome_nome_paziente| condizioni_consegna|      data| data_nascita|decesso_sul_posto|dolore_localizzato|          eta|     farmaci_assunti|farmaci_somministrati|firma_responsabile|     flusso_ossigeno|forze_dell'ordine_presenti|    immobilizzazioni|indirizzo_intervento|indirizzo_residenza|luogo_nascita|mezzo_trasporto|monitoraggio_continuo|nome_chiamante|nome_soccorritore_1|nome_soccorritore_2|nome_soccorritore_3|     note_intervento|numero_civico|numero_intervento|ora_arrivo_ps|ora_arrivo_sul_posto|ora_chiamata|ora_partenza_ambulanza|ora_partenza_dal_posto|ora_rientro_sede|ospedale_destinazione|     ossigenoterapia|    parametri_vitali| patologie_pregresse|paziente_consegnato_ps|paziente_rifiuto_trasporto|posizionamento_paziente|problemi_riscontrati|provincia|provincia_nascita|provincia_residenza|relazione_con_paziente|reparto_destinazione|           residenza|ruolo_soccorritore_1|ruolo_soccorritore_2|ruolo_soccorritore_3|    sesso|             sintomi|soluzione_endovenosa|     stato_coscienza|telefono_chiamante|     tipo_mezzo|          via|\n",
      "+--------------------+--------------------+--------------------+-----+--------+---------------+----------------+--------------+-------------+-----------------+---------------------+--------------------+----------+-------------+-----------------+------------------+-------------+--------------------+---------------------+------------------+--------------------+--------------------------+--------------------+--------------------+-------------------+-------------+---------------+---------------------+--------------+-------------------+-------------------+-------------------+--------------------+-------------+-----------------+-------------+--------------------+------------+----------------------+----------------------+----------------+---------------------+--------------------+--------------------+--------------------+----------------------+--------------------------+-----------------------+--------------------+---------+-----------------+-------------------+----------------------+--------------------+--------------------+--------------------+--------------------+--------------------+---------+--------------------+--------------------+--------------------+------------------+---------------+-------------+\n",
      "|684ed98b7a26fd46f...|                null|        nessuna nota|40121| Bologna|        Bologna|BNCLRA96C54A944P|            D3|           D3|          Bianchi|        Bianchi Laura|vigile, collabora...|2025-06-15|   1996-03-14|            false|    polso sinistro|      29 anni|             nessuno|                   []|          M. Galli|                null|                     false|steccatura polso ...|via Manzoni 5, Bo...|       via Verdi 12|      Bologna|      ambulanza| monitoraggio para...| Marco Bianchi|       Giulia Rossi|         Luca Ferri|        Marco Galli|Paziente coscient...|            5|            PR135|        10:25|               09:55|       09:45|                 09:48|                 10:10|           10:50| Ospedale Maggiore...|               false|[{09:57, 90 bpm, ...|             nessuna|                  true|                     false|                 seduta|             nessuno|       BO|               BO|                 BO|              fratello|     Pronto Soccorso|via Verdi 12, Bol...|          infermiere|autista soccorritore|     capo equipaggio|femminile|[dolore acuto al ...|                null|  vigile e orientata|       051-1234567|      ambulanza|  via Manzoni|\n",
      "|684ed98b7a26fd46f...|                null|                null|     |   Parma|           null|            null|            D4|           D2|                 |                 null|                    |          |         null|            false|            addome|circa 35 anni|                null|                   []|                  |                null|                      null|                null| via Verdi 10, Parma|               null|             |      ambulanza|                     |              |                   |                   |                   |Posizionato in si...|           10|            PR125|         null|                null|       11:08|                  null|                  null|            null|                 null|                null|[{, <100 bpm, , >...|                null|                  true|                     false|    posizione antalgica|                    |         |                 |               null|                      |     Pronto Soccorso|                null|                    |                    |                    | maschile|[forti dolori add...|                null|  vigile e orientato|       0521‑000002|      ambulanza|    via Verdi|\n",
      "|684ed98b7a26fd46f...|                true|allergica a penic...|43036| Fidenza|        Fidenza|FRRMRN47S48D548X|            D3|           D1|          Ferrari|        Ferrari Maria|saturazione migli...|2025-06-15|   1947-11-08|            false|  nessuno riferito|      78 anni|ramipril, broncod...|                   []|          F. Leoni|             6 L/min|                     false|                null|via Montale 22, F...|        via Verga 5|      Fidenza|      ambulanza| parametri monitor...|         Laura|         Sara Conti|    Francesco Leoni|      Martina Rossi|Paziente di 78 an...|           22|            PR126|        09:24|               08:53|       08:42|                 08:45|                 09:08|           09:50|  Ospedale di Fidenza|                true|[{08:55, 110 bpm,...|  BPCO, ipertensione|                  true|                     false|            semi-seduta|             nessuno|       PR|               PR|                 PR|                figlia|     Pronto Soccorso|via Verga 5, Fidenza|autista soccorritore|     capo equipaggio|        soccorritore|femminile|[difficoltà respi...|soluzione fisiolo...|             confusa|       0524‑003344|      ambulanza|  via Montale|\n",
      "|684ed98b7a26fd46f...|posizionato acces...|         penicillina|20121|  Milano|         Milano|RSSGVN53S05F205X|            D4|           D3|            Rossi|       Rossi Giovanni|condizioni stabil...|2025-06-15|   1953-11-05|            false|            torace|      72 anni|[\"beta-bloccanti\"...|                   []|        L. Bianchi|             4 L/min|                     false|                null|via Dante 22, Milano|       via Verdi 45|       Milano|      ambulanza| monitoraggio cost...|   Maria Rossi|         Anna Verdi|         Paolo Neri|       Luca Bianchi|Paziente con malo...|           22|            PR140|        15:10|               14:40|       14:30|                 14:33|                 14:55|           15:45| Ospedale San Raff...|                true|[{14:42, 45 bpm, ...|[\"ipertensione\", ...|                  true|                     false|            semi-seduta|             nessuno|       MI|               MI|                 MI|                moglie|     Pronto Soccorso|via Verdi 45, Milano|          infermiere|autista soccorritore|     capo equipaggio| maschile|[difficoltà respi...|soluzione fisiolo...|semicosciente, co...|        02-7654321|      ambulanza|    via Dante|\n",
      "|684ed98b7a26fd46f...|                null|                null| null|  Modena|         Modena|            null|            D3|           D2|             null|         Luca Bianchi|                    |          |   20/07/1983|            false|     articolazioni|         null|                null|                   []|                  |                null|                      null|                null|                    |                   |         null|      ambulanza|                 null|          null|               null|               null|               null|crisi epilettica,...|           15|            MO456|         null|                null|       14:17|                  null|                  null|            null| Policlinico di Mo...|                true|[{null, oltre 100...|                null|                  true|                     false|   posizione lateral...|                    |     null|             null|               null|                  null|                null|                    |                null|                null|                null|     null|[crisi tonica e c...|                null|inizialmente inco...|        059-000111|      ambulanza|        Verdi|\n",
      "|684ed98b7a26fd46f...|                null|                    |     |   Parma|           null|                |            D4|           D3|                 |                     |                null|          |         null|            false|              null|circa 40 anni|                    |                   []|                  |                null|                      null|                null|via Garibaldi 18,...|               null|         null|ambulanza PR124|                   sì|              |                   |                   |                   |                    |           18|                 |         null|                null|       15:22|                  null|                  null|            null|                     |                null|[{null, 80 bpm, n...|                    |                  true|                     false|                 seduto|                    |         |             null|               null|                  null|     Pronto Soccorso|                null|                    |                    |                    | maschile|[episodi di vomit...|                null|              vigile|       0521‑000001|ambulanza PR124|via Garibaldi|\n",
      "|684ed98b7a26fd46f...|posizionato acces...|         penicillina|50123| Firenze|        Firenze|BNCLRA97B51D612Y|            D4|           D3|          Bianchi|        Bianchi Laura|condizioni stabil...|2025-06-15|   1997-02-11|            false|           nessuno|      28 anni|                null| [adrenalina intra...|        F. Martini|             6 L/min|                     false|                null|via Marconi 78, F...|    via Leopardi 10|      Firenze|      ambulanza| monitoraggio cost...| Marco Bianchi|       Giulia Conti|       Davide Russo|   Federica Martini|Paziente con sosp...|           78|            PR150|        10:00|               09:30|       09:20|                 09:23|                 09:45|           10:40| Ospedale Careggi,...|                true|[{09:32, 110 bpm,...|                null|                  true|                     false|            semi-seduta|             nessuno|       FI|               FI|                 FI|              fratello|     Pronto Soccorso|via Leopardi 10, ...|          infermiere|autista soccorritore|     capo equipaggio|femminile|[gonfiore al viso...|soluzione fisiolo...|agitata ma cosciente|       055-1234567|      ambulanza|  via Marconi|\n",
      "|684ed98b7a26fd46f...|                null|                    |     |   Parma|          Parma|                |            D5|           D4|                 |          Rossi Mario|                    |          |12 marzo 1959|            false|              null|             |                    |                   []|                  |                    |                      true|                    |  via Roma 24, Parma|      via Venezia 3|             |      ambulanza|                 true|              |               null|               null|               null|                    |           24|            PR123|         null|                null|       09:41|                  null|                  null|            null| Ospedale Maggiore...|iniziata in maschera|[{, <60 bpm, , 12...|                    |                  true|                     false|   capo e tronco sol...|                    |     null|                 |               null|               parente|                    |via Venezia 3, Parma|                null|                null|                null|     null|[vie aeree parzia...|                    |risponde solo a s...|       0521-000000|      ambulanza|         Roma|\n",
      "|684ed98b7a26fd46f...|               false|        nessuna nota|43036| Fidenza|        Fidenza|RCCSFN73C12G337T|            D1|           D1|                 |        Ricci Stefano|vigile, collabora...|2025-06-15|   1973-03-12|            false|   caviglia destra|      52 anni|             nessuno|                   []|           G. Riva|                    |                     false|stecca caviglia, ...|via Bellini 8, Fi...|      via Rossini 3|        Parma|      ambulanza| dolore stabile, c...|      passante|          Luca Neri|        Giulia Riva|      Carlo Bianchi|Il paziente è sta...|            8|            PR127|        10:49|               10:24|       10:15|                 10:18|                 10:37|           11:10|     Ospedale di Vaio|               false|[{10:26, 84 bpm, ...|  nessuna di rilievo|                  true|                     false|                 seduto|             nessuno|       PR|               PR|                 PR|               nessuna|     Pronto Soccorso|via Rossini 3, Fi...|autista soccorritore|     capo equipaggio|        soccorritore| maschile|[dolore caviglia ...|                    |  vigile e orientato|       0524-556677|      ambulanza|  via Bellini|\n",
      "|684ed98b7a26fd46f...|                null|        nessuna nota|29121|Piacenza|       Piacenza|RSSMRA47S09G337A|            D2|           D2|            Rossi|          Rossi Mario|vigile, affaticat...|2025-06-15|   1947-11-09|            false|                  |      78 anni|bronchodilatatori...|                   []|           L. Neri|6 l/min con masch...|                     false|                null|via Leopardi 22, ...|       via Verdi 14|     Piacenza|      ambulanza| monitoraggio para...|        figlia|      Marco Bianchi|         Anna Verdi|          Luca Neri|Paziente con stor...|           22|            PR130|        15:05|               14:33|       14:22|                 14:25|                 14:50|           15:30| Ospedale Guglielm...|                true|[{14:35, 110 bpm,...|  BPCO, ipertensione|                  true|                     false|             semiseduto|             nessuno|       PC|               PC|                 PC|                figlia|     Pronto Soccorso|via Verdi 14, Pia...|autista soccorritore|          infermiere|     capo equipaggio| maschile|[difficoltà respi...|                null|   vigile ma confuso|       0523-123456|      ambulanza| via Leopardi|\n",
      "+--------------------+--------------------+--------------------+-----+--------+---------------+----------------+--------------+-------------+-----------------+---------------------+--------------------+----------+-------------+-----------------+------------------+-------------+--------------------+---------------------+------------------+--------------------+--------------------------+--------------------+--------------------+-------------------+-------------+---------------+---------------------+--------------+-------------------+-------------------+-------------------+--------------------+-------------+-----------------+-------------+--------------------+------------+----------------------+----------------------+----------------+---------------------+--------------------+--------------------+--------------------+----------------------+--------------------------+-----------------------+--------------------+---------+-----------------+-------------------+----------------------+--------------------+--------------------+--------------------+--------------------+--------------------+---------+--------------------+--------------------+--------------------+------------------+---------------+-------------+\n",
      "\n"
     ]
    },
    {
     "name": "stderr",
     "output_type": "stream",
     "text": [
      "                                                                                \r"
     ]
    }
   ],
   "source": [
    "import os\n",
    "from pyspark.sql import SparkSession\n",
    "\n",
    "# 1. Configurazione ambiente Java e Spark\n",
    "os.environ[\"JAVA_HOME\"] = \"/Library/Java/JavaVirtualMachines/openjdk-11.jdk/Contents/Home\"\n",
    "os.environ[\"PYSPARK_SUBMIT_ARGS\"] = \"--packages org.mongodb.spark:mongo-spark-connector_2.12:10.5.0 pyspark-shell\"\n",
    "\n",
    "# 2. Inizializzazione Spark con configurazione esplicita\n",
    "spark = SparkSession.builder \\\n",
    "    .appName(\"ClinicalDataAnalysis\") \\\n",
    "    .config(\"spark.jars.packages\", \"org.mongodb.spark:mongo-spark-connector_2.12:10.5.0\") \\\n",
    "    .config(\"spark.mongodb.read.connection.uri\", \"mongodb://localhost:27017/cartella_clinica_db.interventi\") \\\n",
    "    .getOrCreate()\n",
    "\n",
    "# 3. Lettura dati con sintassi corretta\n",
    "df = spark.read \\\n",
    "  .format(\"mongodb\") \\\n",
    "  .option(\"uri\", \"mongodb://localhost:27017\") \\\n",
    "  .option(\"database\", \"cartella_clinica_db\") \\\n",
    "  .option(\"collection\", \"interventi\") \\\n",
    "  .load()\n",
    "\n",
    "# Verifica\n",
    "df.show(10)\n",
    "\n"
   ]
  },
  {
   "cell_type": "code",
   "execution_count": 4,
   "id": "dbc43097",
   "metadata": {},
   "outputs": [
    {
     "name": "stdout",
     "output_type": "stream",
     "text": [
      "+--------------------+---------+\n",
      "|reparto_destinazione|eta_media|\n",
      "+--------------------+---------+\n",
      "|     Pronto Soccorso|     51.5|\n",
      "|                    |     null|\n",
      "|                null|     null|\n",
      "+--------------------+---------+\n",
      "\n"
     ]
    }
   ],
   "source": [
    "from pyspark.sql.functions import regexp_extract, col\n",
    "\n",
    "# Estrae il numero all'inizio della stringa e lo converte in intero\n",
    "df_clean = df.withColumn(\"eta_int\", regexp_extract(col(\"eta\"), r\"(\\d+)\", 1).cast(\"int\"))\n",
    "\n",
    "# Calcola l'età media per reparto\n",
    "df_clean.select(\"reparto_destinazione\", \"eta_int\") \\\n",
    "    .groupBy(\"reparto_destinazione\") \\\n",
    "    .avg(\"eta_int\") \\\n",
    "    .withColumnRenamed(\"avg(eta_int)\", \"eta_media\") \\\n",
    "    .orderBy(\"eta_media\", ascending=False) \\\n",
    "    .show()\n",
    "\n"
   ]
  },
  {
   "cell_type": "code",
   "execution_count": 7,
   "id": "a3298aa0",
   "metadata": {},
   "outputs": [
    {
     "name": "stdout",
     "output_type": "stream",
     "text": [
      "+----------------------+-------------+-------------+\n",
      "|ora_partenza_ambulanza|ora_arrivo_ps|durata_minuti|\n",
      "+----------------------+-------------+-------------+\n",
      "|                 14:25|        15:05|         40.0|\n",
      "|                 08:45|        09:24|         39.0|\n",
      "|                 09:48|        10:25|         37.0|\n",
      "|                 14:33|        15:10|         37.0|\n",
      "|                 09:23|        10:00|         37.0|\n",
      "|                 10:18|        10:49|         31.0|\n",
      "|                  null|         null|         null|\n",
      "|                  null|         null|         null|\n",
      "|                  null|         null|         null|\n",
      "|                  null|         null|         null|\n",
      "+----------------------+-------------+-------------+\n",
      "\n"
     ]
    }
   ],
   "source": [
    "from pyspark.sql.functions import unix_timestamp, col, round\n",
    "\n",
    "# Converte gli orari in timestamp e calcola la differenza in minuti\n",
    "df_tempo = df.withColumn(\"partenza_ts\", unix_timestamp(col(\"ora_partenza_ambulanza\"), \"HH:mm\")) \\\n",
    "             .withColumn(\"arrivo_ts\", unix_timestamp(col(\"ora_arrivo_ps\"), \"HH:mm\")) \\\n",
    "             .withColumn(\"durata_minuti\", round((col(\"arrivo_ts\") - col(\"partenza_ts\")) / 60))\n",
    "\n",
    "# Mostra i tempi di occupazione\n",
    "df_tempo.select(\"ora_partenza_ambulanza\", \"ora_arrivo_ps\", \"durata_minuti\") \\\n",
    "        .orderBy(col(\"durata_minuti\").desc()) \\\n",
    "        .show(10)\n"
   ]
  },
  {
   "cell_type": "code",
   "execution_count": 8,
   "id": "740e0f29",
   "metadata": {},
   "outputs": [
    {
     "name": "stdout",
     "output_type": "stream",
     "text": [
      "+--------+-----+\n",
      "|   citta|count|\n",
      "+--------+-----+\n",
      "|   Parma|    3|\n",
      "| Fidenza|    2|\n",
      "| Bologna|    1|\n",
      "|  Milano|    1|\n",
      "|  Modena|    1|\n",
      "| Firenze|    1|\n",
      "|Piacenza|    1|\n",
      "+--------+-----+\n",
      "\n"
     ]
    }
   ],
   "source": [
    "# Top 10 città con più interventi\n",
    "df.groupBy(\"citta\") \\\n",
    "  .count() \\\n",
    "  .orderBy(\"count\", ascending=False) \\\n",
    "  .show(10)\n"
   ]
  },
  {
   "cell_type": "code",
   "execution_count": 9,
   "id": "7184bb1e",
   "metadata": {},
   "outputs": [
    {
     "name": "stdout",
     "output_type": "stream",
     "text": [
      "+-------------+-----+-----------+\n",
      "|codice_uscita|count|percentuale|\n",
      "+-------------+-----+-----------+\n",
      "|           D3|    4|       40.0|\n",
      "|           D2|    3|       30.0|\n",
      "|           D1|    2|       20.0|\n",
      "|           D4|    1|       10.0|\n",
      "+-------------+-----+-----------+\n",
      "\n"
     ]
    }
   ],
   "source": [
    "total = df.count()\n",
    "\n",
    "df.groupBy(\"codice_uscita\") \\\n",
    "  .count() \\\n",
    "  .withColumn(\"percentuale\", (col(\"count\") / total) * 100) \\\n",
    "  .orderBy(\"percentuale\", ascending=False) \\\n",
    "  .show()\n"
   ]
  },
  {
   "cell_type": "code",
   "execution_count": 10,
   "id": "ac64bd09",
   "metadata": {},
   "outputs": [
    {
     "name": "stdout",
     "output_type": "stream",
     "text": [
      "+-------------+--------------+-----+\n",
      "|codice_uscita|codice_rientro|count|\n",
      "+-------------+--------------+-----+\n",
      "|           D3|            D4|    3|\n",
      "|           D3|            D3|    1|\n",
      "|           D2|            D4|    1|\n",
      "|           D1|            D3|    1|\n",
      "|           D2|            D3|    1|\n",
      "|           D4|            D5|    1|\n",
      "|           D1|            D1|    1|\n",
      "|           D2|            D2|    1|\n",
      "+-------------+--------------+-----+\n",
      "\n"
     ]
    }
   ],
   "source": [
    "df_eff = df.groupBy(\"codice_uscita\", \"codice_rientro\") \\\n",
    "           .count() \\\n",
    "           .orderBy(\"count\", ascending=False)\n",
    "\n",
    "df_eff.show(10)\n"
   ]
  },
  {
   "cell_type": "code",
   "execution_count": 13,
   "id": "80ae5dda",
   "metadata": {},
   "outputs": [
    {
     "name": "stderr",
     "output_type": "stream",
     "text": [
      "/var/folders/7f/7v0y2r7x71d8fvv9hcm5rtx80000gn/T/ipykernel_10261/2987412968.py:23: FutureWarning: \n",
      "\n",
      "Passing `palette` without assigning `hue` is deprecated and will be removed in v0.14.0. Assign the `x` variable to `hue` and set `legend=False` for the same effect.\n",
      "\n",
      "  sns.barplot(data=eta_df, x=\"reparto_destinazione\", y=\"eta_media\", palette=\"viridis\")\n"
     ]
    },
    {
     "data": {
      "image/png": "[encoded data removed]",
      "text/plain": [
       "<Figure size 1200x600 with 1 Axes>"
      ]
     },
     "metadata": {},
     "output_type": "display_data"
    }
   ],
   "source": [
    "from pyspark.sql.functions import col\n",
    "import matplotlib.pyplot as plt\n",
    "import seaborn as sns\n",
    "\n",
    "# Estrae il numero all'inizio della stringa e lo converte in intero\n",
    "df_clean = df.withColumn(\"eta_int\", regexp_extract(col(\"eta\"), r\"(\\d+)\", 1).cast(\"int\"))\n",
    "\n",
    "\n",
    "# Calcolo dell'età media per reparto\n",
    "eta_df = df_clean.select(\"reparto_destinazione\", \"eta_int\") \\\n",
    "                 .groupBy(\"reparto_destinazione\") \\\n",
    "                 .avg(\"eta_int\") \\\n",
    "                 .withColumnRenamed(\"avg(eta_int)\", \"eta_media\") \\\n",
    "                 .orderBy(\"eta_media\", ascending=False) \\\n",
    "                 .toPandas()\n",
    "\n",
    "# Rimozione reparti null o vuoti\n",
    "eta_df = eta_df[eta_df[\"reparto_destinazione\"].notnull()]\n",
    "eta_df = eta_df[eta_df[\"reparto_destinazione\"].str.strip() != \"\"]\n",
    "\n",
    "# Plot ordinato\n",
    "plt.figure(figsize=(12, 6))\n",
    "sns.barplot(data=eta_df, x=\"reparto_destinazione\", y=\"eta_media\", palette=\"viridis\")\n",
    "plt.xticks(rotation=45, ha='right')\n",
    "plt.ylabel(\"Età media (anni)\")\n",
    "plt.xlabel(\"Reparto destinazione\")\n",
    "plt.title(\"Età media dei pazienti per reparto\")\n",
    "plt.tight_layout()\n",
    "plt.grid(axis='y', linestyle='--', alpha=0.5)\n",
    "plt.show()\n"
   ]
  }
 ],
 "metadata": {
  "kernelspec": {
   "display_name": "cnr_project",
   "language": "python",
   "name": "python3"
  },
  "language_info": {
   "codemirror_mode": {
    "name": "ipython",
    "version": 3
   },
   "file_extension": ".py",
   "mimetype": "text/x-python",
   "name": "python",
   "nbconvert_exporter": "python",
   "pygments_lexer": "ipython3",
   "version": "3.10.14"
  }
 },
 "nbformat": 4,
 "nbformat_minor": 5
}
