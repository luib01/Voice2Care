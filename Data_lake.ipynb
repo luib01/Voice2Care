{
 "cells": [
  {
   "cell_type": "code",
   "execution_count": 1,
   "id": "73cebb4b",
   "metadata": {},
   "outputs": [
    {
     "name": "stderr",
     "output_type": "stream",
     "text": [
      "java version \"21.0.2\" 2024-01-16 LTS\n",
      "Java(TM) SE Runtime Environment (build 21.0.2+13-LTS-58)\n",
      "Java HotSpot(TM) 64-Bit Server VM (build 21.0.2+13-LTS-58, mixed mode, sharing)\n"
     ]
    }
   ],
   "source": [
    "import os\n",
    "# 1. Imposta il percorso di Java 11 (usa l'output del comando sopra)\n",
    "java_home_path = \"/Library/Java/JavaVirtualMachines/openjdk-11.jdk/Contents/Home\"\n",
    "os.environ[\"JAVA_HOME\"] = java_home_path\n",
    "\n",
    "# 2. Aggiungi Java al PATH\n",
    "os.environ[\"PATH\"] = f\"{java_home_path}/bin:{os.environ['PATH']}\"\n",
    "\n",
    "# 3. Verifica (opzionale)\n",
    "!java -version\n",
    "\n"
   ]
  },
  {
   "cell_type": "code",
   "execution_count": null,
   "id": "4780e012",
   "metadata": {},
   "outputs": [],
   "source": [
    "###JAVA MAC\n",
    "import os\n",
    "from pyspark.sql import SparkSession\n",
    "\n",
    "# 1. Configurazione ambiente Java e Spark\n",
    "os.environ[\"JAVA_HOME\"] = \"/Library/Java/JavaVirtualMachines/openjdk-11.jdk/Contents/Home\"\n",
    "os.environ[\"PYSPARK_SUBMIT_ARGS\"] = \"--packages org.mongodb.spark:mongo-spark-connector_2.12:10.5.0 pyspark-shell\"\n",
    "\n",
    "# 2. Inizializzazione Spark con configurazione esplicita\n",
    "spark = SparkSession.builder \\\n",
    "    .appName(\"ClinicalDataAnalysis\") \\\n",
    "    .config(\"spark.jars.packages\", \"org.mongodb.spark:mongo-spark-connector_2.12:10.5.0\") \\\n",
    "    .config(\"spark.mongodb.read.connection.uri\", \"mongodb://localhost:27017/cartella_clinica_db.interventi\") \\\n",
    "    .getOrCreate()\n",
    "\n",
    "# 3. Lettura dati con sintassi corretta\n",
    "df = spark.read \\\n",
    "  .format(\"mongodb\") \\\n",
    "  .option(\"uri\", \"mongodb://localhost:27017\") \\\n",
    "  .option(\"database\", \"cartella_clinica_db\") \\\n",
    "  .option(\"collection\", \"interventi\") \\\n",
    "  .load()\n",
    "\n",
    "# Verifica\n",
    "df.show(10)"
   ]
  },
  {
   "cell_type": "code",
   "execution_count": null,
   "id": "91a6025c",
   "metadata": {},
   "outputs": [
    {
     "name": "stderr",
     "output_type": "stream",
     "text": [
      "java version \"11.0.27\" 2025-04-15 LTS\n",
      "Java(TM) SE Runtime Environment 18.9 (build 11.0.27+8-LTS-232)\n",
      "Java HotSpot(TM) 64-Bit Server VM 18.9 (build 11.0.27+8-LTS-232, mixed mode)\n"
     ]
    }
   ],
   "source": [
    "### JAVA WINDOWS\n",
    "\n",
    "import os\n",
    "# 1. Imposta il percorso di Java 11 (usa l'output del comando sopra)\n",
    "java_home_path = r\"C:\\Program Files\\Java\\jdk-11\"\n",
    "os.environ[\"HADOOP_HOME\"] = r\"C:\\Program Files\\hadoop\"\n",
    "os.environ[\"JAVA_HOME\"] = java_home_path\n",
    "\n",
    "# 2. Aggiungi Java al PATH\n",
    "os.environ[\"PATH\"] = f\"{java_home_path}\\\\bin;{os.environ['PATH']}\"\n",
    "\n",
    "# 3. Verifica (opzionale)\n",
    "!java -version"
   ]
  },
  {
   "cell_type": "code",
   "execution_count": 10,
   "id": "943892b0",
   "metadata": {},
   "outputs": [
    {
     "name": "stdout",
     "output_type": "stream",
     "text": [
      "+--------------------+--------------------+-----------+-----+-------+---------------+----------------+--------------+-------------+-----------------+---------------------+--------------------+----------+-------------+-----------------+------------------+-------------+---------------+---------------------+------------------+---------------+--------------------------+----------------+--------------------+-------------------+-------------+---------------+---------------------+--------------+-------------------+-------------------+-------------------+--------------------+-------------+-----------------+-------------+--------------------+------------+----------------------+----------------------+----------------+---------------------+--------------------+--------------------+-------------------+----------------------+--------------------------+-----------------------+--------------------+---------+-----------------+-------------------+----------------------+--------------------+--------------------+--------------------+--------------------+--------------------+---------+--------------------+--------------------+--------------------+------------------+---------------+-------------+\n",
      "|                 _id|      accesso_venoso|   allergie|  cap|  citta|citta_residenza|  codice_fiscale|codice_rientro|codice_uscita|cognome_chiamante|cognome_nome_paziente| condizioni_consegna|      data| data_nascita|decesso_sul_posto|dolore_localizzato|          eta|farmaci_assunti|farmaci_somministrati|firma_responsabile|flusso_ossigeno|forze_dell'ordine_presenti|immobilizzazioni|indirizzo_intervento|indirizzo_residenza|luogo_nascita|mezzo_trasporto|monitoraggio_continuo|nome_chiamante|nome_soccorritore_1|nome_soccorritore_2|nome_soccorritore_3|     note_intervento|numero_civico|numero_intervento|ora_arrivo_ps|ora_arrivo_sul_posto|ora_chiamata|ora_partenza_ambulanza|ora_partenza_dal_posto|ora_rientro_sede|ospedale_destinazione|     ossigenoterapia|    parametri_vitali|patologie_pregresse|paziente_consegnato_ps|paziente_rifiuto_trasporto|posizionamento_paziente|problemi_riscontrati|provincia|provincia_nascita|provincia_residenza|relazione_con_paziente|reparto_destinazione|           residenza|ruolo_soccorritore_1|ruolo_soccorritore_2|ruolo_soccorritore_3|    sesso|             sintomi|soluzione_endovenosa|     stato_coscienza|telefono_chiamante|     tipo_mezzo|          via|\n",
      "+--------------------+--------------------+-----------+-----+-------+---------------+----------------+--------------+-------------+-----------------+---------------------+--------------------+----------+-------------+-----------------+------------------+-------------+---------------+---------------------+------------------+---------------+--------------------------+----------------+--------------------+-------------------+-------------+---------------+---------------------+--------------+-------------------+-------------------+-------------------+--------------------+-------------+-----------------+-------------+--------------------+------------+----------------------+----------------------+----------------+---------------------+--------------------+--------------------+-------------------+----------------------+--------------------------+-----------------------+--------------------+---------+-----------------+-------------------+----------------------+--------------------+--------------------+--------------------+--------------------+--------------------+---------+--------------------+--------------------+--------------------+------------------+---------------+-------------+\n",
      "|684ed06402102d42f...|                null|           |     |  Parma|          Parma|                |            D5|           D4|                 |          Rossi Mario|                    |          |12 marzo 1959|            false|              null|             |               |                   []|                  |               |                      true|                |  via Roma 24, Parma|      via Venezia 3|             |      ambulanza|                 true|              |               null|               null|               null|                    |           24|            PR123|         null|                null|       09:41|                  null|                  null|            null| Ospedale Maggiore...|iniziata in maschera|[{, <60 bpm, , 12...|                   |                  true|                     false|   capo e tronco sol...|                    |     null|                 |               null|               parente|                    |via Venezia 3, Parma|                null|                null|                null|     null|[vie aeree parzia...|                    |risponde solo a s...|       0521-000000|      ambulanza|         Roma|\n",
      "|684ed06502102d42f...|                null|       null| null| Modena|         Modena|            null|            D3|           D2|             null|         Luca Bianchi|                    |          |   20/07/1983|            false|     articolazioni|         null|           null|                   []|                  |           null|                      null|            null|                    |                   |         null|      ambulanza|                 null|          null|               null|               null|               null|crisi epilettica,...|           15|            MO456|         null|                null|       14:17|                  null|                  null|            null| Policlinico di Mo...|                true|[{null, oltre 100...|               null|                  true|                     false|   posizione lateral...|                    |     null|             null|               null|                  null|                null|                    |                null|                null|                null|     null|[crisi tonica e c...|                null|inizialmente inco...|        059-000111|      ambulanza|        Verdi|\n",
      "|684ed06502102d42f...|                null|           |     |  Parma|           null|                |            D4|           D3|                 |                     |                null|          |         null|            false|              null|circa 40 anni|               |                   []|                  |           null|                      null|            null|via Garibaldi 18,...|               null|         null|ambulanza PR124|                   sì|              |                   |                   |                   |                    |           18|                 |         null|                null|       15:22|                  null|                  null|            null|                     |                null|[{null, 80 bpm, n...|                   |                  true|                     false|                 seduto|                    |         |             null|               null|                  null|     Pronto Soccorso|                null|                    |                    |                    | maschile|[episodi di vomit...|                null|              vigile|       0521‑000001|ambulanza PR124|via Garibaldi|\n",
      "|684ed06502102d42f...|                null|       null|     |  Parma|           null|            null|            D4|           D2|                 |                 null|                    |          |         null|            false|            addome|circa 35 anni|           null|                   []|                  |           null|                      null|            null| via Verdi 10, Parma|               null|             |      ambulanza|                     |              |                   |                   |                   |Posizionato in si...|           10|            PR125|         null|                null|       11:08|                  null|                  null|            null|                 null|                null|[{, <100 bpm, , >...|               null|                  true|                     false|    posizione antalgica|                    |         |                 |               null|                      |     Pronto Soccorso|                null|                    |                    |                    | maschile|[forti dolori add...|                null|  vigile e orientato|       0521‑000002|      ambulanza|    via Verdi|\n",
      "|684fdbb58f3292f33...|                null|           |     |  Parma|          Parma|                |            D5|           D4|                 |          Rossi Mario|                    |          |12 marzo 1959|            false|              null|             |               |                   []|                  |               |                      true|                |  via Roma 24, Parma|      via Venezia 3|             |      ambulanza|                 true|              |               null|               null|               null|                    |           24|            PR123|         null|                null|       09:41|                  null|                  null|            null| Ospedale Maggiore...|iniziata in maschera|[{, <60 bpm, , 12...|                   |                  true|                     false|   capo e tronco sol...|                    |     null|                 |               null|               parente|                    |via Venezia 3, Parma|                null|                null|                null|     null|[vie aeree parzia...|                    |risponde solo a s...|       0521-000000|      ambulanza|         Roma|\n",
      "|684fdbb58f3292f33...|                null|       null| null| Modena|         Modena|            null|            D3|           D2|             null|         Luca Bianchi|                    |          |   20/07/1983|            false|     articolazioni|         null|           null|                   []|                  |           null|                      null|            null|                    |                   |         null|      ambulanza|                 null|          null|               null|               null|               null|crisi epilettica,...|           15|            MO456|         null|                null|       14:17|                  null|                  null|            null| Policlinico di Mo...|                true|[{null, oltre 100...|               null|                  true|                     false|   posizione lateral...|                    |     null|             null|               null|                  null|                null|                    |                null|                null|                null|     null|[crisi tonica e c...|                null|inizialmente inco...|        059-000111|      ambulanza|        Verdi|\n",
      "|684fdbb58f3292f33...|                null|           |     |  Parma|           null|                |            D4|           D3|                 |                     |                null|          |         null|            false|              null|circa 40 anni|               |                   []|                  |           null|                      null|            null|via Garibaldi 18,...|               null|         null|ambulanza PR124|                   sì|              |                   |                   |                   |                    |           18|                 |         null|                null|       15:22|                  null|                  null|            null|                     |                null|[{null, 80 bpm, n...|                   |                  true|                     false|                 seduto|                    |         |             null|               null|                  null|     Pronto Soccorso|                null|                    |                    |                    | maschile|[episodi di vomit...|                null|              vigile|       0521‑000001|ambulanza PR124|via Garibaldi|\n",
      "|684fdbb58f3292f33...|                null|       null|     |  Parma|           null|            null|            D4|           D2|                 |                 null|                    |          |         null|            false|            addome|circa 35 anni|           null|                   []|                  |           null|                      null|            null| via Verdi 10, Parma|               null|             |      ambulanza|                     |              |                   |                   |                   |Posizionato in si...|           10|            PR125|         null|                null|       11:08|                  null|                  null|            null|                 null|                null|[{, <100 bpm, , >...|               null|                  true|                     false|    posizione antalgica|                    |         |                 |               null|                      |     Pronto Soccorso|                null|                    |                    |                    | maschile|[forti dolori add...|                null|  vigile e orientato|       0521‑000002|      ambulanza|    via Verdi|\n",
      "|685039ab13b17d584...|                null|           |     |  Parma|          Parma|                |            D5|           D4|                 |          Rossi Mario|                    |          |12 marzo 1959|            false|              null|             |               |                   []|                  |               |                      true|                |  via Roma 24, Parma|      via Venezia 3|             |      ambulanza|                 true|              |               null|               null|               null|                    |           24|            PR123|         null|                null|       09:41|                  null|                  null|            null| Ospedale Maggiore...|iniziata in maschera|[{, <60 bpm, , 12...|                   |                  true|                     false|   capo e tronco sol...|                    |     null|                 |               null|               parente|                    |via Venezia 3, Parma|                null|                null|                null|     null|[vie aeree parzia...|                    |risponde solo a s...|       0521-000000|      ambulanza|         Roma|\n",
      "|685039ab13b17d584...|posizionato acces...|penicillina|50123|Firenze|        Firenze|BNCLRA97B51D612Y|            D4|           D3|          Bianchi|        Bianchi Laura|condizioni stabil...|2025-06-15|   1997-02-11|            false|           nessuno|      28 anni|           null| [adrenalina intra...|        F. Martini|        6 L/min|                     false|            null|via Marconi 78, F...|    via Leopardi 10|      Firenze|      ambulanza| monitoraggio cost...| Marco Bianchi|       Giulia Conti|       Davide Russo|   Federica Martini|Paziente con sosp...|           78|            PR150|        10:00|               09:30|       09:20|                 09:23|                 09:45|           10:40| Ospedale Careggi,...|                true|[{09:32, 110 bpm,...|               null|                  true|                     false|            semi-seduta|             nessuno|       FI|               FI|                 FI|              fratello|     Pronto Soccorso|via Leopardi 10, ...|          infermiere|autista soccorritore|     capo equipaggio|femminile|[gonfiore al viso...|soluzione fisiolo...|agitata ma cosciente|       055-1234567|      ambulanza|  via Marconi|\n",
      "+--------------------+--------------------+-----------+-----+-------+---------------+----------------+--------------+-------------+-----------------+---------------------+--------------------+----------+-------------+-----------------+------------------+-------------+---------------+---------------------+------------------+---------------+--------------------------+----------------+--------------------+-------------------+-------------+---------------+---------------------+--------------+-------------------+-------------------+-------------------+--------------------+-------------+-----------------+-------------+--------------------+------------+----------------------+----------------------+----------------+---------------------+--------------------+--------------------+-------------------+----------------------+--------------------------+-----------------------+--------------------+---------+-----------------+-------------------+----------------------+--------------------+--------------------+--------------------+--------------------+--------------------+---------+--------------------+--------------------+--------------------+------------------+---------------+-------------+\n",
      "only showing top 10 rows\n",
      "\n"
     ]
    }
   ],
   "source": [
    "#### SPARK SARA\n",
    "import os\n",
    "from pyspark.sql import SparkSession\n",
    "\n",
    "# 1. Configurazione ambiente Spark\n",
    "os.environ[\"PYSPARK_SUBMIT_ARGS\"] = \"--packages org.mongodb.spark:mongo-spark-connector_2.12:10.1.1 pyspark-shell\"\n",
    "\n",
    "# 2. Inizializzazione Spark con configurazione esplicita\n",
    "spark = SparkSession.builder \\\n",
    "    .appName(\"ClinicalDataAnalysis\") \\\n",
    "    .config(\"spark.jars.packages\", \"org.mongodb.spark:mongo-spark-connector_2.12:10.5.0\") \\\n",
    "    .config(\"spark.mongodb.read.connection.uri\", \"mongodb://localhost:27017/cartella_clinica_db.interventi\") \\\n",
    "    .getOrCreate()\n",
    "\n",
    "# 3. Lettura dati con sintassi corretta\n",
    "df = spark.read \\\n",
    "  .format(\"mongodb\") \\\n",
    "  .option(\"uri\", \"mongodb://localhost:27017\") \\\n",
    "  .option(\"database\", \"cartella_clinica_db\") \\\n",
    "  .option(\"collection\", \"interventi\") \\\n",
    "  .load()\n",
    "\n",
    "# Verifica\n",
    "df.show(10)\n",
    "\n"
   ]
  },
  {
   "cell_type": "markdown",
   "id": "9ecab4ac",
   "metadata": {},
   "source": [
    "# Tempo di servizio ambulanza"
   ]
  },
  {
   "cell_type": "code",
   "execution_count": 35,
   "id": "a3298aa0",
   "metadata": {},
   "outputs": [
    {
     "name": "stdout",
     "output_type": "stream",
     "text": [
      "+----------------------+-------------+-------------+------------+--------------------+-------------------+\n",
      "|ora_partenza_ambulanza|ora_arrivo_ps|durata_minuti|ora_chiamata|ora_arrivo_sul_posto|tempo_di_intervento|\n",
      "+----------------------+-------------+-------------+------------+--------------------+-------------------+\n",
      "|                 14:25|        15:05|         40.0|       14:22|               14:33|               11.0|\n",
      "|                 08:45|        09:24|         39.0|       08:42|               08:53|               11.0|\n",
      "|                 09:23|        10:00|         37.0|       09:20|               09:30|               10.0|\n",
      "|                 09:48|        10:25|         37.0|       09:45|               09:55|               10.0|\n",
      "|                 14:33|        15:10|         37.0|       14:30|               14:40|               10.0|\n",
      "|                 10:18|        10:49|         31.0|       10:15|               10:24|                9.0|\n",
      "|                 14:15|        14:44|         29.0|       14:12|               14:27|               15.0|\n",
      "|                 14:34|        14:56|         22.0|       14:32|               14:40|                8.0|\n",
      "|                 14:48|        15:10|         22.0|       14:46|               14:54|                8.0|\n",
      "|                 09:14|        09:34|         20.0|       09:12|               09:20|                8.0|\n",
      "+----------------------+-------------+-------------+------------+--------------------+-------------------+\n",
      "only showing top 10 rows\n",
      "\n"
     ]
    }
   ],
   "source": [
    "from pyspark.sql.functions import unix_timestamp, col, round\n",
    "\n",
    "# Converte gli orari in timestamp e calcola la differenza in minuti\n",
    "df_tempo = df.withColumn(\"partenza_ts\", unix_timestamp(col(\"ora_partenza_ambulanza\"), \"HH:mm\")) \\\n",
    "             .withColumn(\"arrivo_ts\", unix_timestamp(col(\"ora_arrivo_ps\"), \"HH:mm\")) \\\n",
    "             .withColumn(\"chiamata_ts\", unix_timestamp(col(\"ora_chiamata\"), \"HH:mm\")) \\\n",
    "             .withColumn(\"ora_intervento\", unix_timestamp(col(\"ora_arrivo_sul_posto\"), \"HH:mm\")) \\\n",
    "             .withColumn(\"durata_minuti\", round((col(\"arrivo_ts\") - col(\"partenza_ts\")) / 60)) \\\n",
    "             .withColumn(\"tempo_di_intervento\", round((col(\"ora_intervento\") - col(\"chiamata_ts\")) / 60))\n",
    "\n",
    "# Mostra i tempi di occupazione\n",
    "df_tempo.select(\"ora_partenza_ambulanza\", \"ora_arrivo_ps\", \"durata_minuti\", \"ora_chiamata\", \"ora_arrivo_sul_posto\", \"tempo_di_intervento\") \\\n",
    "        .orderBy(col(\"durata_minuti\").desc()) \\\n",
    "        .show(10)\n",
    "\n",
    "# Salva in CSV\n",
    "df_tempo.select(\"ora_partenza_ambulanza\", \"ora_arrivo_ps\", \"durata_minuti\", \"ora_chiamata\", \"ora_arrivo_sul_posto\", \"tempo_di_intervento\") \\\n",
    "        .toPandas() \\\n",
    "        .to_csv(\"output/tempi_occupazione_ambulanza.csv\", index=False)\n",
    "\n"
   ]
  },
  {
   "cell_type": "markdown",
   "id": "8212d1f3",
   "metadata": {},
   "source": [
    "# Tempo di servizio ambulanza per città (per vedere se ci sono città più lente o più veloci di altre)"
   ]
  },
  {
   "cell_type": "code",
   "execution_count": 37,
   "id": "298a5b79",
   "metadata": {},
   "outputs": [
    {
     "name": "stdout",
     "output_type": "stream",
     "text": [
      "+-------+-----------------+-----------------+----------------+------------------+-----------------+\n",
      "|citta  |totale_interventi|interventi_rapidi|interventi_lenti|percentuale_rapidi|percentuale_lenti|\n",
      "+-------+-----------------+-----------------+----------------+------------------+-----------------+\n",
      "|Arezzo |2                |2                |0               |100.0             |0.0              |\n",
      "|Bologna|2                |1                |0               |50.0              |0.0              |\n",
      "|Empoli |1                |1                |0               |100.0             |0.0              |\n",
      "|Firenze|3                |1                |0               |33.33             |0.0              |\n",
      "|Milano |2                |1                |0               |50.0              |0.0              |\n",
      "|Parma  |3                |1                |0               |33.33             |0.0              |\n",
      "+-------+-----------------+-----------------+----------------+------------------+-----------------+\n",
      "\n"
     ]
    }
   ],
   "source": [
    "from pyspark.sql.functions import unix_timestamp, col, round, when, count, sum\n",
    "\n",
    "# Calcola la durata in minuti\n",
    "df = df.withColumn(\"chiamata_ts\", unix_timestamp(col(\"ora_chiamata\"), \"HH:mm\")) \\\n",
    "       .withColumn(\"arrivo_ts\", unix_timestamp(col(\"ora_arrivo_sul_posto\"), \"HH:mm\")) \\\n",
    "       .withColumn(\"durata_minuti\", round((col(\"arrivo_ts\") - col(\"chiamata_ts\")) / 60))\n",
    "\n",
    "# Definisci soglie per rapido e lento\n",
    "soglia_rapido = 8\n",
    "soglia_lento = 20\n",
    "\n",
    "# Aggiungi colonne per classificare\n",
    "df = df.withColumn(\"is_rapido\", when(col(\"durata_minuti\") <= soglia_rapido, 1).otherwise(0)) \\\n",
    "       .withColumn(\"is_lento\", when(col(\"durata_minuti\") >= soglia_lento, 1).otherwise(0))\n",
    "\n",
    "# Raggruppa per città e calcola totali e percentuali\n",
    "df_riepilogo = df.groupBy(\"citta\").agg(\n",
    "    count(\"*\").alias(\"totale_interventi\"),\n",
    "    sum(\"is_rapido\").alias(\"interventi_rapidi\"),\n",
    "    sum(\"is_lento\").alias(\"interventi_lenti\")\n",
    ")\n",
    "\n",
    "df_percentuali = df_riepilogo.withColumn(\n",
    "    \"percentuale_rapidi\",\n",
    "    round((col(\"interventi_rapidi\") / col(\"totale_interventi\")) * 100, 2)\n",
    ").withColumn(\n",
    "    \"percentuale_lenti\",\n",
    "    round((col(\"interventi_lenti\") / col(\"totale_interventi\")) * 100, 2)\n",
    ")\n",
    "\n",
    "# Filtra le città senza interventi rapidi né lenti\n",
    "df_filtrato = df_percentuali.filter(\n",
    "    (col(\"interventi_rapidi\") > 0) | (col(\"interventi_lenti\") > 0)\n",
    ")\n",
    "\n",
    "# Mostra il risultato\n",
    "df_filtrato.orderBy(\"citta\").show(truncate=False)\n",
    "\n",
    "# Salva solo le città con dati rilevanti\n",
    "df_filtrato.toPandas().to_csv(\"output/distribuzione_ambulanze_estreme.csv\", index=False)\n",
    "\n",
    "\n"
   ]
  },
  {
   "cell_type": "markdown",
   "id": "4712d116",
   "metadata": {},
   "source": [
    "# Analitica Area Geografica"
   ]
  },
  {
   "cell_type": "code",
   "execution_count": 27,
   "id": "740e0f29",
   "metadata": {},
   "outputs": [],
   "source": [
    "from pyspark.sql.functions import col\n",
    "import os\n",
    "\n",
    "# Assicurati che la cartella di output esista\n",
    "os.makedirs(\"output\", exist_ok=True)\n",
    "\n",
    "# Calcola top 10 città con più interventi\n",
    "top_cities = df.groupBy(\"citta\") \\\n",
    "    .count() \\\n",
    "    .orderBy(col(\"count\").desc()) \\\n",
    "    .limit(10)\n",
    "\n",
    "spark.conf.set(\"spark.hadoop.io.native.lib.available\", \"false\")\n",
    "\n",
    "# Trasformo in pandas\n",
    "top_cities_pd = top_cities.toPandas()\n",
    "\n",
    "# Salvo in CSV\n",
    "top_cities_pd.to_csv(\"output/top_citta_interventi.csv\", index=False)\n",
    "\n"
   ]
  }
 ],
 "metadata": {
  "kernelspec": {
   "display_name": ".venv",
   "language": "python",
   "name": "python3"
  },
  "language_info": {
   "codemirror_mode": {
    "name": "ipython",
    "version": 3
   },
   "file_extension": ".py",
   "mimetype": "text/x-python",
   "name": "python",
   "nbconvert_exporter": "python",
   "pygments_lexer": "ipython3",
   "version": "3.12.4"
  }
 },
 "nbformat": 4,
 "nbformat_minor": 5
}
